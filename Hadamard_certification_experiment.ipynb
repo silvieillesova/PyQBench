{
 "cells": [
  {
   "cell_type": "code",
   "id": "ef1f4c7d",
   "metadata": {
    "ExecuteTime": {
     "end_time": "2025-01-18T02:12:18.460202Z",
     "start_time": "2025-01-18T02:12:18.456108Z"
    }
   },
   "source": [
    "from qiskit import QuantumCircuit\n",
    "import numpy as np\n",
    "from qiskit_aer import StatevectorSimulator\n",
    "from qiskit_aer.primitives import SamplerV2\n",
    "from qbench.schemes.postselection import benchmark_certification_using_postselection\n",
    "from qbench.schemes.direct_sum import benchmark_certification_using_direct_sum"
   ],
   "outputs": [],
   "execution_count": 200
  },
  {
   "cell_type": "code",
   "id": "0059be26",
   "metadata": {
    "ExecuteTime": {
     "end_time": "2025-01-18T02:12:18.483421Z",
     "start_time": "2025-01-18T02:12:18.475064Z"
    }
   },
   "source": [
    "### certification experiment for measurement in Hadamard basis using postselection and direct sum ###\n",
    "\n",
    "def state_prep():\n",
    "    circuit = QuantumCircuit(2)\n",
    "    circuit.h(0)\n",
    "    circuit.cx(0,1)\n",
    "    return circuit.to_instruction()\n",
    "    \n",
    "def u_dag():\n",
    "    circuit = QuantumCircuit(1)\n",
    "    circuit.h(0)\n",
    "    return circuit.to_instruction()\n",
    "\n",
    "def v0_dag():\n",
    "    circuit = QuantumCircuit(1)\n",
    "    circuit.ry(2 * np.arcsin(np.sqrt(0.05)), 0)\n",
    "    \n",
    "    return circuit.to_instruction()\n",
    "\n",
    "def v1_dag():\n",
    "    circuit = QuantumCircuit(1)\n",
    "    circuit.ry(2 * np.arcsin(np.sqrt(0.05)), 0)\n",
    "    circuit.x(0)\n",
    "    return circuit.to_instruction()\n",
    "\n",
    "def v0_v1_direct_sum_dag():\n",
    "    circuit = QuantumCircuit(2)\n",
    "    circuit.p(-np.pi, 0)\n",
    "    circuit.ry(-2 * np.arcsin(np.sqrt(0.05)), 0)\n",
    "    circuit.cx(0, 1)\n",
    "    return circuit.to_instruction()"
   ],
   "outputs": [],
   "execution_count": 201
  },
  {
   "cell_type": "code",
   "id": "455e4997",
   "metadata": {
    "ExecuteTime": {
     "end_time": "2025-01-18T02:12:18.490176Z",
     "start_time": "2025-01-18T02:12:18.487554Z"
    }
   },
   "source": "simulator = StatevectorSimulator()",
   "outputs": [],
   "execution_count": 202
  },
  {
   "cell_type": "code",
   "id": "b7f6030a",
   "metadata": {
    "ExecuteTime": {
     "end_time": "2025-01-18T02:12:18.601348Z",
     "start_time": "2025-01-18T02:12:18.491791Z"
    }
   },
   "source": [
    "postselection_result = benchmark_certification_using_postselection(\n",
    "    backend=simulator,\n",
    "    target=0,\n",
    "    ancilla=1,\n",
    "    state_preparation=state_prep(),\n",
    "    u_dag=u_dag(),\n",
    "    v0_dag=v0_dag(),\n",
    "    v1_dag=v1_dag(),\n",
    "    num_shots_per_measurement=10\n",
    ")\n",
    "\n",
    "postselection_result"
   ],
   "outputs": [
    {
     "data": {
      "text/plain": [
       "0.7142857142857143"
      ]
     },
     "execution_count": 203,
     "metadata": {},
     "output_type": "execute_result"
    }
   ],
   "execution_count": 203
  },
  {
   "cell_type": "code",
   "id": "bfe0ba4b",
   "metadata": {
    "ExecuteTime": {
     "end_time": "2025-01-18T02:12:18.606161Z",
     "start_time": "2025-01-18T02:12:18.602290Z"
    }
   },
   "source": [
    "expected = (1/np.sqrt(2) * np.sqrt(0.95) - 1/np.sqrt(2) * np.sqrt(0.05))**2\n",
    "expected"
   ],
   "outputs": [
    {
     "data": {
      "text/plain": [
       "0.2820550528229661"
      ]
     },
     "execution_count": 204,
     "metadata": {},
     "output_type": "execute_result"
    }
   ],
   "execution_count": 204
  },
  {
   "cell_type": "code",
   "id": "99acaa62",
   "metadata": {
    "ExecuteTime": {
     "end_time": "2025-01-18T02:12:19.143129Z",
     "start_time": "2025-01-18T02:12:18.608293Z"
    }
   },
   "source": [
    "direct_sum_result = benchmark_certification_using_direct_sum(\n",
    "    backend=simulator,\n",
    "    target=0,\n",
    "    ancilla=1,\n",
    "    state_preparation=state_prep(),\n",
    "    u_dag=u_dag(),\n",
    "    v0_v1_direct_sum_dag=v0_v1_direct_sum_dag(),\n",
    "    num_shots_per_measurement=100000\n",
    ")\n",
    "\n",
    "direct_sum_result"
   ],
   "outputs": [
    {
     "data": {
      "text/plain": [
       "0.27924"
      ]
     },
     "execution_count": 205,
     "metadata": {},
     "output_type": "execute_result"
    }
   ],
   "execution_count": 205
  },
  {
   "cell_type": "code",
   "id": "a837c34e-b8d7-4df4-9c58-5ba1cf16f8e7",
   "metadata": {
    "ExecuteTime": {
     "end_time": "2025-01-18T02:12:19.146922Z",
     "start_time": "2025-01-18T02:12:19.144223Z"
    }
   },
   "source": [
    "p_succ = expected\n",
    "print(f\"Analytical p_succ = {p_succ}\")\n",
    "print(\n",
    "f\"Postselection: p_succ = {postselection_result}, abs_error ={np.abs(p_succ - postselection_result)}\"\n",
    ")\n",
    "print(f\"Direct sum: p_succ = {direct_sum_result}, abs_error ={np.abs(p_succ - direct_sum_result)}\")"
   ],
   "outputs": [
    {
     "name": "stdout",
     "output_type": "stream",
     "text": [
      "Analytical p_succ = 0.2820550528229661\n",
      "Postselection: p_succ = 0.7142857142857143, abs_error =0.4322306614627482\n",
      "Direct sum: p_succ = 0.27924, abs_error =0.0028150528229661242\n"
     ]
    }
   ],
   "execution_count": 206
  },
  {
   "cell_type": "code",
   "id": "ce25f7a4-1533-4252-a932-bbafbea78156",
   "metadata": {
    "ExecuteTime": {
     "end_time": "2025-01-18T02:12:19.162830Z",
     "start_time": "2025-01-18T02:12:19.147920Z"
    }
   },
   "source": [
    "from qbench.schemes.postselection import (\n",
    "    assemble_circuits_discrimination_postselection,\n",
    "    compute_probabilities_certification_postselection,\n",
    ")\n",
    "circuits = assemble_circuits_discrimination_postselection(\n",
    "target=0,\n",
    "ancilla=1,\n",
    "state_preparation=state_prep(),\n",
    "u_dag=u_dag(),\n",
    "v0_dag=v0_dag(),\n",
    "v1_dag=v1_dag(),\n",
    ")"
   ],
   "outputs": [],
   "execution_count": 207
  },
  {
   "cell_type": "code",
   "id": "9e3f5bba-d2ab-4904-b46b-e6b05bd33b86",
   "metadata": {
    "ExecuteTime": {
     "end_time": "2025-01-18T02:12:19.167982Z",
     "start_time": "2025-01-18T02:12:19.164103Z"
    }
   },
   "source": [
    "from qiskit_aer.noise import NoiseModel, ReadoutError\n",
    "error = ReadoutError([[0.75, 0.25], [0.8, 0.2]])\n",
    "noise_model = NoiseModel()\n",
    "noise_model.add_readout_error(error, [0])\n",
    "noise_model.add_readout_error(error, [1])"
   ],
   "outputs": [],
   "execution_count": 208
  },
  {
   "cell_type": "code",
   "id": "1a63f475-b565-4983-a947-62f3858731c8",
   "metadata": {
    "ExecuteTime": {
     "end_time": "2025-01-18T02:12:19.682991Z",
     "start_time": "2025-01-18T02:12:19.169272Z"
    }
   },
   "source": [
    "keys_ordering = [\"u_v0\", \"u_v1\"]\n",
    "\n",
    "all_circuits = [circuits[key] for key in keys_ordering]\n",
    "\n",
    "sampler_noiseless = SamplerV2()\n",
    "sampler_noisy = SamplerV2(options=dict(backend_options=dict(noise_model=noise_model)))\n",
    "\n",
    "counts_noisy = [sampler_noisy.run(\n",
    "    [circ],\n",
    "    shots=100000).result()[0].data.meas.get_counts() for circ in all_circuits]\n",
    "\n",
    "counts_noiseless = [sampler_noiseless.run(\n",
    "    [circ],\n",
    "    shots=100000).result()[0].data.meas.get_counts() for circ in all_circuits]"
   ],
   "outputs": [],
   "execution_count": 209
  },
  {
   "cell_type": "code",
   "id": "d2f9a183-9d6b-4c07-bb5f-f309f7ad7859",
   "metadata": {
    "ExecuteTime": {
     "end_time": "2025-01-18T02:12:19.685729Z",
     "start_time": "2025-01-18T02:12:19.683634Z"
    }
   },
   "source": [
    "prob_succ_noiseless = compute_probabilities_certification_postselection(\n",
    "    u_v0_counts=counts_noiseless[0],\n",
    "    u_v1_counts=counts_noiseless[1],)\n",
    "\n",
    "prob_succ_noisy = compute_probabilities_certification_postselection(\n",
    "    u_v0_counts=counts_noisy[0],\n",
    "    u_v1_counts=counts_noisy[1],)"
   ],
   "outputs": [],
   "execution_count": 210
  },
  {
   "cell_type": "code",
   "id": "f949b697-7591-48a9-bcb2-c2c006453064",
   "metadata": {
    "ExecuteTime": {
     "end_time": "2025-01-18T02:12:19.690105Z",
     "start_time": "2025-01-18T02:12:19.686771Z"
    }
   },
   "source": [
    "print(prob_succ_noiseless)"
   ],
   "outputs": [
    {
     "name": "stdout",
     "output_type": "stream",
     "text": [
      "0.2826338159785372\n"
     ]
    }
   ],
   "execution_count": 211
  },
  {
   "cell_type": "code",
   "id": "145dba65-0497-4643-8dd0-e3af180921eb",
   "metadata": {
    "ExecuteTime": {
     "end_time": "2025-01-18T02:12:19.695040Z",
     "start_time": "2025-01-18T02:12:19.690617Z"
    }
   },
   "source": [
    "print(prob_succ_noisy)"
   ],
   "outputs": [
    {
     "name": "stdout",
     "output_type": "stream",
     "text": [
      "0.7728359732242023\n"
     ]
    }
   ],
   "execution_count": 212
  }
 ],
 "metadata": {
  "kernelspec": {
   "display_name": "Python 3 (ipykernel)",
   "language": "python",
   "name": "python3"
  },
  "language_info": {
   "codemirror_mode": {
    "name": "ipython",
    "version": 3
   },
   "file_extension": ".py",
   "mimetype": "text/x-python",
   "name": "python",
   "nbconvert_exporter": "python",
   "pygments_lexer": "ipython3",
   "version": "3.11.9"
  }
 },
 "nbformat": 4,
 "nbformat_minor": 5
}
