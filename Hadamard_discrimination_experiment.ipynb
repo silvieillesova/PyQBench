{
 "cells": [
  {
   "cell_type": "code",
   "id": "901676ea-58e2-495c-89bd-40c7e4e239fb",
   "metadata": {
    "ExecuteTime": {
     "end_time": "2025-01-18T02:14:04.697744Z",
     "start_time": "2025-01-18T02:14:04.693263Z"
    }
   },
   "source": [
    "from qiskit import QuantumCircuit\n",
    "import numpy as np\n",
    "from qiskit_aer.primitives import SamplerV2\n",
    "\n",
    "from qbench.schemes.postselection import benchmark_discrimination_using_postselection\n",
    "from qbench.schemes.direct_sum import benchmark_discrimination_using_direct_sum"
   ],
   "outputs": [],
   "execution_count": 10
  },
  {
   "cell_type": "code",
   "id": "70c82def-c313-4968-8999-fd6f562cbb7a",
   "metadata": {
    "ExecuteTime": {
     "end_time": "2025-01-18T02:14:04.715875Z",
     "start_time": "2025-01-18T02:14:04.712064Z"
    }
   },
   "source": [
    "from qiskit_aer import StatevectorSimulator\n",
    "\n",
    "simulator = StatevectorSimulator()"
   ],
   "outputs": [],
   "execution_count": 11
  },
  {
   "cell_type": "code",
   "id": "e3ce562e-5bb4-4cf3-ab92-e02c4baab7ce",
   "metadata": {
    "ExecuteTime": {
     "end_time": "2025-01-18T02:14:04.736169Z",
     "start_time": "2025-01-18T02:14:04.731399Z"
    }
   },
   "source": [
    "### discrimination experiment for measurement in Hadamard basis using postselection and direct sum###\n",
    "\n",
    "def state_prep():\n",
    "    circuit = QuantumCircuit(2)\n",
    "    circuit.h(0)\n",
    "    circuit.cx(0, 1)\n",
    "    return circuit.to_instruction()\n",
    "\n",
    "def u_dag():\n",
    "    circuit = QuantumCircuit(1)\n",
    "    circuit.h(0)\n",
    "    return circuit.to_instruction()\n",
    "\n",
    "def v0_dag():\n",
    "    circuit = QuantumCircuit(1)\n",
    "    circuit.ry(-np.pi * 3 / 4, 0)\n",
    "    return circuit.to_instruction()\n",
    "    \n",
    "def v1_dag():\n",
    "    circuit = QuantumCircuit(1)\n",
    "    circuit.ry(-np.pi * 3 / 4, 0)\n",
    "    circuit.x(0)\n",
    "    return circuit.to_instruction()\n",
    "    \n",
    "def v0_v1_direct_sum_dag():\n",
    "    circuit = QuantumCircuit(2)\n",
    "    circuit.ry(-np.pi * 3 / 4, 0)\n",
    "    circuit.cx(0, 1)\n",
    "    return circuit.to_instruction()"
   ],
   "outputs": [],
   "execution_count": 12
  },
  {
   "cell_type": "code",
   "id": "939f2579-0b6d-4430-8c7e-37aaece4b47a",
   "metadata": {
    "ExecuteTime": {
     "end_time": "2025-01-18T02:14:06.729272Z",
     "start_time": "2025-01-18T02:14:04.737353Z"
    }
   },
   "source": [
    "discrimination_postselection_result = benchmark_discrimination_using_postselection(\n",
    "    backend=simulator,\n",
    "    target=0,\n",
    "    ancilla=1,\n",
    "    state_preparation=state_prep(),\n",
    "    u_dag=u_dag(),\n",
    "    v0_dag=v0_dag(),\n",
    "    v1_dag=v1_dag(),\n",
    "    num_shots_per_measurement=100000,)"
   ],
   "outputs": [],
   "execution_count": 13
  },
  {
   "cell_type": "code",
   "id": "6bfde52e-855a-42b0-95a9-95b40aa41ef5",
   "metadata": {
    "ExecuteTime": {
     "end_time": "2025-01-18T02:14:07.698378Z",
     "start_time": "2025-01-18T02:14:06.730231Z"
    }
   },
   "source": [
    "discrimination_direct_sum_result = benchmark_discrimination_using_direct_sum(\n",
    "    backend=simulator,\n",
    "    target=1,\n",
    "    ancilla=2,\n",
    "    state_preparation=state_prep(),\n",
    "    u_dag=u_dag(),\n",
    "    v0_v1_direct_sum_dag=v0_v1_direct_sum_dag(),\n",
    "    num_shots_per_measurement=100000,)"
   ],
   "outputs": [],
   "execution_count": 14
  },
  {
   "cell_type": "code",
   "id": "325d3e88-5b6c-46d4-9dff-58750f159a3a",
   "metadata": {
    "ExecuteTime": {
     "end_time": "2025-01-18T02:14:07.702315Z",
     "start_time": "2025-01-18T02:14:07.699679Z"
    }
   },
   "source": [
    "p_succ = (2 + np.sqrt(2)) / 4\n",
    "print(f\"Analytical p_succ = {p_succ}\")\n",
    "print(f\"Postselection: p_succ = {discrimination_postselection_result}, abs.error ={np.abs(p_succ - discrimination_postselection_result)}\")\n",
    "print(f\"Direct sum: p_succ = {discrimination_direct_sum_result}, abs.error ={np.abs(p_succ - discrimination_direct_sum_result)}\")"
   ],
   "outputs": [
    {
     "name": "stdout",
     "output_type": "stream",
     "text": [
      "Analytical p_succ = 0.8535533905932737\n",
      "Postselection: p_succ = 0.8549341565062727, abs.error =0.0013807659129989602\n",
      "Direct sum: p_succ = 0.852805, abs.error =0.0007483905932736956\n"
     ]
    }
   ],
   "execution_count": 15
  },
  {
   "cell_type": "code",
   "id": "f24a2681-db8f-42af-890f-0d4201bec4d0",
   "metadata": {
    "ExecuteTime": {
     "end_time": "2025-01-18T02:14:07.718969Z",
     "start_time": "2025-01-18T02:14:07.703509Z"
    }
   },
   "source": [
    "from qbench.schemes.postselection import (\n",
    "    assemble_circuits_discrimination_postselection,\n",
    "    compute_probabilities_discrimination_postselection,)\n",
    "\n",
    "circuits = assemble_circuits_discrimination_postselection(\n",
    "    target=0,\n",
    "    ancilla=1,\n",
    "    state_preparation=state_prep(),\n",
    "    u_dag=u_dag(),\n",
    "    v0_dag=v0_dag(),\n",
    "    v1_dag=v1_dag(),)"
   ],
   "outputs": [],
   "execution_count": 16
  },
  {
   "cell_type": "code",
   "id": "a4d56672-4ec9-406e-84d8-8038df8057fc",
   "metadata": {
    "ExecuteTime": {
     "end_time": "2025-01-18T02:14:07.724311Z",
     "start_time": "2025-01-18T02:14:07.719580Z"
    }
   },
   "source": [
    "from qiskit_aer.noise import NoiseModel, ReadoutError\n",
    "\n",
    "error = ReadoutError([[0.75, 0.25], [0.8, 0.2]])\n",
    "noise_model = NoiseModel()\n",
    "noise_model.add_readout_error(error, [0])\n",
    "noise_model.add_readout_error(error, [1])\n"
   ],
   "outputs": [],
   "execution_count": 17
  },
  {
   "cell_type": "code",
   "id": "ea5ffbfb-d2f0-4007-a49b-44de3aee9ef3",
   "metadata": {
    "ExecuteTime": {
     "end_time": "2025-01-18T02:14:08.149808Z",
     "start_time": "2025-01-18T02:14:07.725361Z"
    }
   },
   "source": [
    "keys_ordering = [\"id_v0\", \"id_v1\", \"u_v0\", \"u_v1\"]\n",
    "\n",
    "all_circuits = [circuits[key] for key in keys_ordering]\n",
    "\n",
    "sampler_noiseless = SamplerV2()\n",
    "sampler_noisy = SamplerV2(options=dict(backend_options=dict(noise_model=noise_model)))\n",
    "\n",
    "counts_noisy = [sampler_noisy.run(\n",
    "    [circ],\n",
    "    shots=10000).result()[0].data.meas.get_counts() for circ in all_circuits]\n",
    "\n",
    "counts_noiseless = [sampler_noiseless.run(\n",
    "    [circ],\n",
    "    shots=10000).result()[0].data.meas.get_counts() for circ in all_circuits]"
   ],
   "outputs": [],
   "execution_count": 18
  },
  {
   "cell_type": "code",
   "id": "5859c0fd-440d-4998-8b9f-dd325c09bcbe",
   "metadata": {
    "ExecuteTime": {
     "end_time": "2025-01-18T02:14:08.154580Z",
     "start_time": "2025-01-18T02:14:08.150942Z"
    }
   },
   "source": [
    "prob_succ_noiseless = compute_probabilities_discrimination_postselection(\n",
    "    id_v0_counts=counts_noiseless[0],\n",
    "    id_v1_counts=counts_noiseless[1],\n",
    "    u_v0_counts=counts_noiseless[2],\n",
    "    u_v1_counts=counts_noiseless[3],)\n",
    "\n",
    "prob_succ_noisy = compute_probabilities_discrimination_postselection(\n",
    "    id_v0_counts=counts_noisy[0],\n",
    "    id_v1_counts=counts_noisy[1],\n",
    "    u_v0_counts=counts_noisy[2],\n",
    "    u_v1_counts=counts_noisy[3],)"
   ],
   "outputs": [],
   "execution_count": 19
  },
  {
   "cell_type": "code",
   "id": "09f57db2-f29d-4eba-ad57-a3cfad62142c",
   "metadata": {
    "ExecuteTime": {
     "end_time": "2025-01-18T02:14:08.160687Z",
     "start_time": "2025-01-18T02:14:08.156436Z"
    }
   },
   "source": [
    "p_succ = (2 + np.sqrt(2)) / 4\n",
    "print(f\"Analytical p_succ = {p_succ}\")\n",
    "print(f\"Prob_succ_noiseless {prob_succ_noiseless}, abs.error ={np.abs(p_succ - prob_succ_noiseless)}\")\n",
    "print(f\"Prob_succ_noisy = {prob_succ_noisy}, abs.error ={np.abs(p_succ - prob_succ_noisy)}\")"
   ],
   "outputs": [
    {
     "name": "stdout",
     "output_type": "stream",
     "text": [
      "Analytical p_succ = 0.8535533905932737\n",
      "Prob_succ_noiseless 0.8572140850212383, abs.error =0.0036606944279645726\n",
      "Prob_succ_noisy = 0.5044143159173481, abs.error =0.34913907467592564\n"
     ]
    }
   ],
   "execution_count": 20
  }
 ],
 "metadata": {
  "kernelspec": {
   "display_name": "Python 3 (ipykernel)",
   "language": "python",
   "name": "python3"
  },
  "language_info": {
   "codemirror_mode": {
    "name": "ipython",
    "version": 3
   },
   "file_extension": ".py",
   "mimetype": "text/x-python",
   "name": "python",
   "nbconvert_exporter": "python",
   "pygments_lexer": "ipython3",
   "version": "3.11.9"
  }
 },
 "nbformat": 4,
 "nbformat_minor": 5
}
